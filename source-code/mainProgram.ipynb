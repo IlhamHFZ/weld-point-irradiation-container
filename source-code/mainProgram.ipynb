{
 "cells": [
  {
   "cell_type": "markdown",
   "id": "71f802cc-3619-4fd1-876c-3f0d77c5a7a6",
   "metadata": {},
   "source": [
    "Import libary"
   ]
  },
  {
   "cell_type": "code",
   "execution_count": 7,
   "id": "4ddafe1b-9c2c-4ace-a611-82c1bcb4d35e",
   "metadata": {},
   "outputs": [],
   "source": [
    "#ImpoRT the library to be useb\n",
    "import cv2\n",
    "import numpy as np\n",
    "import matplotlib.pyplot as plt\n",
    "%matplotlib inline\n",
    "import math\n",
    "import pandas as pd"
   ]
  },
  {
   "cell_type": "markdown",
   "id": "20d5aff7-e471-4b08-b95d-394428cf7a41",
   "metadata": {},
   "source": [
    "-----"
   ]
  },
  {
   "cell_type": "markdown",
   "id": "0679e1f4-f6d4-41cc-a0f2-308466aeba23",
   "metadata": {},
   "source": [
    "access variables outside the script"
   ]
  },
  {
   "cell_type": "code",
   "execution_count": 9,
   "id": "9ef475d1-1033-46b2-9ad4-c267d2bb26bd",
   "metadata": {},
   "outputs": [],
   "source": [
    "%store -r mtx\n",
    "%store -r dist\n",
    "%store -r roi\n",
    "%store -r newcameramtx\n",
    "%store -r calibratePixel"
   ]
  },
  {
   "cell_type": "markdown",
   "id": "8cf2a1ff-7aa6-4e20-8548-7802707b31fc",
   "metadata": {},
   "source": [
    "---"
   ]
  },
  {
   "cell_type": "markdown",
   "id": "dacda850-550d-404a-873b-69c9f3f26800",
   "metadata": {},
   "source": [
    "Create a frame for show image has been process"
   ]
  },
  {
   "cell_type": "code",
   "execution_count": 8,
   "id": "125ae95b-d98d-4147-9367-ea84f3087059",
   "metadata": {},
   "outputs": [],
   "source": [
    "#function for show image\n",
    "def display_img(img,cmap=None):\n",
    "    #create size image width 12in and hight 10in\n",
    "    fig = plt.figure(figsize=(32,30))\n",
    "    #plot 1, row 1, colom 1\n",
    "    ax = fig.add_subplot(111)\n",
    "    #show image\n",
    "    ax.imshow(img,cmap)"
   ]
  },
  {
   "cell_type": "markdown",
   "id": "9a34e655-2b2e-4b64-9767-4fa32dfb464f",
   "metadata": {},
   "source": [
    "---"
   ]
  },
  {
   "cell_type": "markdown",
   "id": "474d1baa-5027-4e6e-999a-15f487f8e014",
   "metadata": {},
   "source": [
    "Search point to create line"
   ]
  },
  {
   "cell_type": "code",
   "execution_count": 30,
   "id": "9a824034-d007-4f91-810b-e4e99f1805c6",
   "metadata": {},
   "outputs": [],
   "source": [
    "# function for search intersection point line with circle\n",
    "def pointSearch(xInner, yInner, r, beta):\n",
    "    # empty arr for x axis dan y axis\n",
    "    x = []\n",
    "    y = []\n",
    "\n",
    "    r = r + 10\n",
    "\n",
    "    # degree direction Opencv is CW\n",
    "    # determine the calculation by determining the angle, where the angles of 90 and 270 are not allowed\n",
    "    if beta != 90 and beta != 270:\n",
    "        betaInv = -beta\n",
    "\n",
    "        # calculate roots\n",
    "        a = math.pow(1/math.cos(math.radians(betaInv)), 2)\n",
    "        b = -2*xInner*math.pow(1/math.cos(math.radians(betaInv)), 2)\n",
    "        c = math.pow(xInner, 2)*math.pow(1/math.cos(math.radians(betaInv)), 2) - math.pow(r, 2)\n",
    "\n",
    "        # roots for x axis\n",
    "        x1 = (-b + math.sqrt(math.pow(b, 2) - 4*a*c))/(2*a)\n",
    "        x2 = (-b - math.sqrt(math.pow(b, 2) - 4*a*c))/(2*a)\n",
    "        x.append(x1)\n",
    "        x.append(x2)\n",
    "\n",
    "        # roots for y axis\n",
    "        y1 = math.tan(math.radians(betaInv))*x1 - math.tan(math.radians(betaInv))*xInner + yInner\n",
    "        y2 = math.tan(math.radians(betaInv))*x2 - math.tan(math.radians(betaInv))*xInner + yInner\n",
    "        y.append(y1)\n",
    "        y.append(y2)\n",
    "\n",
    "        # combines each coordinate into a tuple\n",
    "        pointTest = list(zip(x, y))\n",
    "\n",
    "        # determines the limit of the x value based on the angle\n",
    "        # limits for angles over 270 and less than 90\n",
    "        if beta > 270 or beta < 90:\n",
    "            for xTest, yTest in pointTest:\n",
    "                if xTest > xInner:\n",
    "                    pass\n",
    "                else:\n",
    "                    # remove roots that don't fit the constraints\n",
    "                    x.remove(xTest)\n",
    "                    y.remove(yTest)\n",
    "        # limits for angles over 90 and less than 270\n",
    "        else:\n",
    "            for xTest, yTest in pointTest:\n",
    "                if xTest < xInner:\n",
    "                    pass\n",
    "                else:\n",
    "                    # remove roots that don't fit the constraints\n",
    "                    x.remove(xTest)\n",
    "                    y.remove(yTest)\n",
    "    # for angles 90 and 270\n",
    "    else:\n",
    "        # angles 90 and 270 do not follow the equation of the line so as to create a perpendicular line x = xInner\n",
    "        x.append(xInner)\n",
    "\n",
    "        # calculate roots\n",
    "        a = 1\n",
    "        b = -2*yInner\n",
    "        c = math.pow(yInner, 2) - math.pow(r, 2)\n",
    "\n",
    "        # roots of y axis\n",
    "        y1 = (-b + math.sqrt(math.pow(b, 2) - 4*a*c))/(2*a)\n",
    "        y2 = (-b - math.sqrt(math.pow(b, 2) - 4*a*c))/(2*a)\n",
    "        y.append(y1)\n",
    "        y.append(y2)\n",
    "\n",
    "        # point requirements at an angle of 90\n",
    "        if beta == 90:\n",
    "            for yTest in y:\n",
    "                if yTest < yInner:\n",
    "                    pass\n",
    "                else:\n",
    "                    y.remove(yTest)\n",
    "        # point requirements at an angle of 270\n",
    "        else:\n",
    "            for yTest in y:\n",
    "                if yTest > yInner:\n",
    "                    pass\n",
    "                else:\n",
    "                    y.remove(yTest)\n",
    "\n",
    "    # round up the x and y coordinates\n",
    "    x = math.ceil(x[0])\n",
    "    y = math.ceil(y[0])\n",
    "\n",
    "    return x, y"
   ]
  },
  {
   "cell_type": "markdown",
   "id": "01cda970-f81d-47a9-a29c-7918c6749653",
   "metadata": {},
   "source": [
    "---"
   ]
  },
  {
   "cell_type": "markdown",
   "id": "7331e743-d7c8-47a7-84e3-ff0be7e883d1",
   "metadata": {},
   "source": [
    "function to measure the thickness of roi"
   ]
  },
  {
   "cell_type": "code",
   "execution_count": 36,
   "id": "d155158b-ecab-4ff0-94d0-029fad800ec4",
   "metadata": {},
   "outputs": [],
   "source": [
    "def thickMeasure(xInner, yInner, xPoint, yPoint, roi=None):\n",
    "    # create line by angle\n",
    "    line = cv2.line(mask.copy(),(xCenter, yCenter),(xPoint, yPoint),(255, 255, 255), 1)\n",
    "    line = cv2.cvtColor(line, cv2.COLOR_BGR2GRAY)\n",
    "\n",
    "    # removes the non-subjects from the logical result set and\n",
    "    roiThick = cv2.bitwise_and(line, roi)\n",
    "\n",
    "    # get delta x and delta y\n",
    "    indexWhite = np.where(roiThick == 255)\n",
    "    deltaX = indexWhite[1].max() - indexWhite[1].min()\n",
    "    deltaY = indexWhite[0].max() - indexWhite[0].min()\n",
    "\n",
    "    # roi thickness in pixels\n",
    "    thickPixel = math.sqrt(math.pow(deltaX, 2)+math.pow(deltaY, 2))\n",
    "\n",
    "    # roll thickness in mm\n",
    "    thick = thickPixel * constCalibrate\n",
    "\n",
    "    return roiThick, thickPixel, thick"
   ]
  },
  {
   "cell_type": "markdown",
   "id": "2d9ba3ea-8c2b-431d-b269-9c5749cdfcf6",
   "metadata": {},
   "source": [
    "---\n",
    "function to draw weld points"
   ]
  },
  {
   "cell_type": "code",
   "execution_count": 37,
   "id": "af9280ba-5bed-4274-8ffc-810095965530",
   "metadata": {},
   "outputs": [],
   "source": [
    "def drawDotWeld(roiCap, lengthThick, weldPoint, angle):\n",
    "    searchWhite = np.where(roiCap == 255)\n",
    "    a = searchWhite[1].max() - searchWhite[1].min()\n",
    "    b = searchWhite[0].max() - searchWhite[0].min()\n",
    "\n",
    "    d = (weldPoint*a)/lengthThick\n",
    "    e = (weldPoint*b)/lengthThick\n",
    "\n",
    "    # find the starting point of the line\n",
    "    if angle > 0 and angle < 90:\n",
    "        xIntial = searchWhite[1].min()\n",
    "        yIntial = searchWhite[0].max()\n",
    "\n",
    "        xDot = d + xIntial\n",
    "        yDot = yIntial - e\n",
    "    elif angle >= 90 and angle <= 180:\n",
    "        xIntial = searchWhite[1].max()\n",
    "        yIntial = searchWhite[0].max()\n",
    "\n",
    "        xDot = xIntial - d\n",
    "        yDot = yIntial - e\n",
    "    elif angle > 180 and angle < 270:\n",
    "        xIntial = searchWhite[1].max()\n",
    "        yIntial = searchWhite[0].min()\n",
    "\n",
    "        xDot = xIntial - d\n",
    "        yDot = e + yIntial\n",
    "    elif (angle >= 270 and angle < 360) or angle == 0:\n",
    "        xIntial = searchWhite[1].min()\n",
    "        yIntial = searchWhite[0].min()\n",
    "\n",
    "        xDot = d + xIntial\n",
    "        yDot = e + yIntial\n",
    "\n",
    "    xDot = math.ceil(xDot)\n",
    "    yDot = math.ceil(yDot)\n",
    "\n",
    "    return xDot, yDot"
   ]
  },
  {
   "cell_type": "markdown",
   "id": "75dc31a6-cb9d-4135-ad28-82655789ded6",
   "metadata": {},
   "source": [
    "---"
   ]
  },
  {
   "cell_type": "markdown",
   "id": "2800d7ba-4c55-4874-a335-ccacb05f713e",
   "metadata": {},
   "source": [
    "location image"
   ]
  },
  {
   "cell_type": "code",
   "execution_count": 71,
   "id": "743e6295-d924-454e-8027-12e2b6b507eb",
   "metadata": {},
   "outputs": [],
   "source": [
    "path = 'Image Irrdiation Container\\\\A1.jpg'"
   ]
  },
  {
   "cell_type": "markdown",
   "id": "5a8fb639-49ef-4892-a61c-6ee2b19e9f68",
   "metadata": {},
   "source": [
    "---"
   ]
  },
  {
   "cell_type": "markdown",
   "id": "676b974d-79ac-4699-a014-11280b8b180b",
   "metadata": {},
   "source": [
    "remove lens distortion on image"
   ]
  },
  {
   "cell_type": "code",
   "execution_count": 72,
   "id": "839c9770-de3d-4c82-814b-c262cf8654c6",
   "metadata": {},
   "outputs": [],
   "source": [
    "# call image form path\n",
    "imgRaw = cv2.imread(path)\n",
    "#undistort\n",
    "img = cv2.undistort(imgRaw, mtx, dist, None, newcameramtx)\n",
    "x, y, w, h = roi\n",
    "img = img[y:y+h, x:x+w]"
   ]
  },
  {
   "cell_type": "markdown",
   "id": "1d6d9d39-0764-4ce1-875d-0324893e7cbb",
   "metadata": {},
   "source": [
    "---"
   ]
  },
  {
   "cell_type": "markdown",
   "id": "4478025e-9477-4ba1-bb28-ef59077b0e40",
   "metadata": {},
   "source": [
    "image processing"
   ]
  },
  {
   "cell_type": "code",
   "execution_count": 73,
   "id": "a1281a41-d223-43c3-9004-e3a5b0bbf368",
   "metadata": {},
   "outputs": [],
   "source": [
    "#change color fomar from BGR to Grayscale\n",
    "imgGray = cv2.cvtColor(img,cv2.COLOR_BGR2GRAY)\n",
    "#copy image like img\n",
    "imgDraw = img.copy()\n",
    "imgDrawLine = img.copy()\n",
    "imgDrawDot = img.copy()"
   ]
  },
  {
   "cell_type": "code",
   "execution_count": 75,
   "id": "67e59c43-e481-4f3d-96f4-b7cf9f61052c",
   "metadata": {},
   "outputs": [],
   "source": [
    "#reduce noise by gaussian blur kernel size 5x5\n",
    "imgBlur = cv2.GaussianBlur(imgGray,(5,5),0)"
   ]
  },
  {
   "cell_type": "code",
   "execution_count": 77,
   "id": "dc820776-d7b2-48d6-ae02-422e704c7532",
   "metadata": {},
   "outputs": [],
   "source": [
    "#edge detection\n",
    "imgEdge = cv2.Canny(imgBlur,50,100)"
   ]
  },
  {
   "cell_type": "code",
   "execution_count": 79,
   "id": "c24c3fee-037e-434f-a405-304d3eb9837a",
   "metadata": {},
   "outputs": [],
   "source": [
    "#create empty array to draw circel or line\n",
    "mask = np.zeros(img.shape,np.uint8)"
   ]
  },
  {
   "cell_type": "code",
   "execution_count": 80,
   "id": "5be11cc9-3f99-463b-9668-85139a480cb2",
   "metadata": {},
   "outputs": [],
   "source": [
    "__,width,__ = img.shape[:]"
   ]
  },
  {
   "cell_type": "markdown",
   "id": "d5c10a5f-fb65-4d89-b172-78c64dfd2894",
   "metadata": {},
   "source": [
    "---\n",
    "Find Inner, Middle, and Outter Circle each part iradiation capsule\n",
    "\n",
    "Inner Circle Detection"
   ]
  },
  {
   "cell_type": "code",
   "execution_count": 81,
   "id": "851dc24d-51e3-467f-9412-bc1602c8d5d6",
   "metadata": {},
   "outputs": [],
   "source": [
    "detectInnerCircle = cv2.HoughCircles(imgEdge, cv2.HOUGH_GRADIENT ,1.5, width/2, param1=60, param2=50, minRadius=90, maxRadius=130)"
   ]
  },
  {
   "cell_type": "code",
   "execution_count": 82,
   "id": "2d8dbed1-a920-452c-8c44-fe893462f983",
   "metadata": {},
   "outputs": [
    {
     "name": "stdout",
     "output_type": "stream",
     "text": [
      "berhasil\n"
     ]
    }
   ],
   "source": [
    "if detectInnerCircle is not None:\n",
    "    # Convert the circle parameters a, b and r to integers.\n",
    "    detectInnerCircle = np.uint16(np.around(detectInnerCircle))\n",
    "    for pt in detectInnerCircle[0, :]:\n",
    "        #a and b is coordinates midle point circle, a --> x, b --> y, r is radius circle\n",
    "        a, b, r = pt[0], pt[1], pt[2]\n",
    "        # Draw the circumference of the circle.\n",
    "        drawInner = cv2.circle(imgDraw, (a, b), r, (255, 0, 0), 2)\n",
    "        drawFullInnerCircle = cv2.circle(mask.copy(), (a, b), r, (255, 255, 255), -1)\n",
    "    print('berhasil')\n",
    "else:\n",
    "    print('tidak terdeteksi')"
   ]
  },
  {
   "cell_type": "markdown",
   "id": "d72e27a8-fb01-4e2e-ab8c-0fcaacd0a68e",
   "metadata": {},
   "source": [
    "---\n",
    "Middel Circle Detection"
   ]
  },
  {
   "cell_type": "code",
   "execution_count": 83,
   "id": "f75f60c2-13f5-4edc-acda-c0dc3cccb01e",
   "metadata": {},
   "outputs": [],
   "source": [
    "detectMidCircle = cv2.HoughCircles(imgEdge, cv2.HOUGH_GRADIENT ,1.5, width/2, param1=60, param2=50, minRadius=150, maxRadius=170)"
   ]
  },
  {
   "cell_type": "code",
   "execution_count": 84,
   "id": "ec08d8a0-2254-4999-8ca0-164a8a69aad4",
   "metadata": {},
   "outputs": [
    {
     "name": "stdout",
     "output_type": "stream",
     "text": [
      "berhasil\n"
     ]
    }
   ],
   "source": [
    "if detectMidCircle is not None:\n",
    "    # Convert the circle parameters a, b and r to integers.\n",
    "    detectMidCircle = np.uint16(np.around(detectMidCircle))\n",
    "    for pt in detectMidCircle[0, :]:\n",
    "        #a and b is coordinates midle point circle, a --> x, b --> y, r is radius circle\n",
    "        a, b, r = pt[0], pt[1], pt[2]\n",
    "        # Draw the circumference of the circle.\n",
    "        drawMid = cv2.circle(imgDraw, (a, b), r, (0, 255, 0), 2)\n",
    "        drawFullMidCircle = cv2.circle(mask.copy(), (a, b), r, (255, 255, 255), -1)\n",
    "    print('berhasil')\n",
    "else:\n",
    "    print('tidak terdeteksi')"
   ]
  },
  {
   "cell_type": "markdown",
   "id": "008873c1-1f8f-40d8-a146-509b5a920acc",
   "metadata": {},
   "source": [
    "---\n",
    "Outter Circle Detection"
   ]
  },
  {
   "cell_type": "code",
   "execution_count": 85,
   "id": "5836bba5-faea-45e7-b90b-bb90ef55bdb0",
   "metadata": {},
   "outputs": [],
   "source": [
    "detectOutterCircle = cv2.HoughCircles(imgEdge, cv2.HOUGH_GRADIENT ,1.5, width/2, param1=60, param2=50, minRadius=180, maxRadius=230)"
   ]
  },
  {
   "cell_type": "code",
   "execution_count": 86,
   "id": "60888496-8980-4f50-b836-cb8debc68c06",
   "metadata": {},
   "outputs": [
    {
     "name": "stdout",
     "output_type": "stream",
     "text": [
      "berhasil\n"
     ]
    }
   ],
   "source": [
    "if detectOutterCircle is not None:\n",
    "    # Convert the circle parameters a, b and r to integers.\n",
    "    detectOutterCircle = np.uint16(np.around(detectOutterCircle))\n",
    "    for pt in detectOutterCircle[0, :]:\n",
    "        #a and b is coordinates midle point circle, a --> x, b --> y, r is radius circle\n",
    "        a, b, r = pt[0], pt[1], pt[2]\n",
    "        # Draw the circumference of the circle.\n",
    "        drawOutter = cv2.circle(imgDraw, (a, b), r, (0, 0, 255), 2)\n",
    "        drawFullOutterCircle = cv2.circle(mask.copy(), (a, b), r, (255, 255, 255), -1)\n",
    "    print('berhasil')\n",
    "else:\n",
    "    print('tidak terdeteksi')"
   ]
  },
  {
   "cell_type": "markdown",
   "id": "505d3986-64b3-47f2-9a04-85e545391c21",
   "metadata": {},
   "source": [
    "---\n",
    "Do operational logic to get roi part of iradiation capsule"
   ]
  },
  {
   "cell_type": "markdown",
   "id": "552a1259-cccc-4a5e-9772-f3654d922a1b",
   "metadata": {},
   "source": [
    "get cap iradiation capsule"
   ]
  },
  {
   "cell_type": "code",
   "execution_count": 98,
   "id": "1c028ad1-1d25-4dc5-a7c8-46e7bde7883f",
   "metadata": {},
   "outputs": [],
   "source": [
    "#remove object undisire and leaving roi cap\n",
    "areaCap = cv2.bitwise_xor(drawFullMidCircle,drawFullInnerCircle)\n",
    "areaCap = cv2.cvtColor(areaCap,cv2.COLOR_BGR2GRAY)"
   ]
  },
  {
   "cell_type": "code",
   "execution_count": 99,
   "id": "2d887320-b31f-440c-977b-d326860da3d4",
   "metadata": {},
   "outputs": [],
   "source": [
    "#get detail cap on roi cap do operational logical and\n",
    "cap = cv2.bitwise_and(imgBlur,areaCap)"
   ]
  },
  {
   "cell_type": "code",
   "execution_count": 100,
   "id": "75bf8c0c-5f7e-475a-b6fa-e8820399bad8",
   "metadata": {},
   "outputs": [],
   "source": [
    "#do threshold to get more detail and create binary image \n",
    "# __,thresCap = cv2.threshold(cap,250,255,cv2.THRESH_BINARY+cv2.THRESH_OTSU)\n",
    "thresCap = cv2.adaptiveThreshold(cap, 255, cv2.ADAPTIVE_THRESH_GAUSSIAN_C,cv2.THRESH_BINARY_INV, 5, 2)"
   ]
  },
  {
   "cell_type": "markdown",
   "id": "1a86a0c3-f784-4773-9bf8-6ca4a67ab177",
   "metadata": {},
   "source": [
    "get tube iradiation capsule"
   ]
  },
  {
   "cell_type": "code",
   "execution_count": 102,
   "id": "a980d2fa-cc04-41d1-b4aa-acff14b6a71e",
   "metadata": {},
   "outputs": [],
   "source": [
    "areaTube = cv2.bitwise_xor(drawFullMidCircle,drawFullOutterCircle)\n",
    "areaTube = cv2.cvtColor(areaTube,cv2.COLOR_BGR2GRAY)"
   ]
  },
  {
   "cell_type": "code",
   "execution_count": 103,
   "id": "3db13bab-6169-4418-9e8f-49f4274d18c5",
   "metadata": {},
   "outputs": [],
   "source": [
    "tube = cv2.bitwise_and(imgBlur,areaTube)"
   ]
  },
  {
   "cell_type": "code",
   "execution_count": 104,
   "id": "2f89f11a-3476-4c3f-9481-b3b132cfa1c6",
   "metadata": {},
   "outputs": [],
   "source": [
    "# __,thresTube = cv2.threshold(tube,250,255,cv2.THRESH_BINARY+cv2.THRESH_OTSU)\n",
    "thresTube = cv2.adaptiveThreshold(tube, 255, cv2.ADAPTIVE_THRESH_GAUSSIAN_C,cv2.THRESH_BINARY_INV, 5, 2)"
   ]
  },
  {
   "cell_type": "markdown",
   "id": "b7830fb5-d7b9-4b37-9338-bf76ebca35ae",
   "metadata": {},
   "source": [
    "---"
   ]
  },
  {
   "cell_type": "markdown",
   "id": "58260e09-7440-4b0b-9f38-65f384a39567",
   "metadata": {},
   "source": [
    "Calculate thickness by length line given logical operator and with roi"
   ]
  },
  {
   "cell_type": "code",
   "execution_count": 31,
   "id": "94a6cb7c-2b30-4ea4-ac1c-c8a7bb9c5c36",
   "metadata": {},
   "outputs": [],
   "source": [
    "xCenter,yCenter,__ = detectInnerCircle[0][0]"
   ]
  },
  {
   "cell_type": "code",
   "execution_count": 32,
   "id": "ea37f682-d7d6-4d45-9dc1-6e59eda76143",
   "metadata": {},
   "outputs": [],
   "source": [
    "__,__,rOutter = detectOutterCircle[0][0]"
   ]
  },
  {
   "cell_type": "code",
   "execution_count": 34,
   "id": "364138ea-2d31-4d6c-a189-ea8f437d8260",
   "metadata": {},
   "outputs": [],
   "source": [
    "constCalibrate = calibratePixel"
   ]
  },
  {
   "cell_type": "code",
   "execution_count": 38,
   "id": "03b69439-f458-4ef9-a786-504180b28f21",
   "metadata": {},
   "outputs": [],
   "source": [
    "dataThick = pd.DataFrame(columns=['sudut (derajat)','tutup kapsul (piksel)','tutup kapsul (mm)','tabung kapsul (piksel)','tabung kapsul (mm)','titik las (piksel)','titik las (mm)','arah titik las dari celah kapsul (piksel)','arah titik las dari celah kapsul (mm)'])"
   ]
  },
  {
   "cell_type": "code",
   "execution_count": 39,
   "id": "eac0817f-4e75-4e24-844b-a95be06c951f",
   "metadata": {},
   "outputs": [],
   "source": [
    "for degree in range(0,361,1):\n",
    "    #mencari titik singgung dengan lingakaran terluar\n",
    "    x, y = pointSearch(xCenter,yCenter,rOutter,degree)\n",
    "    \n",
    "    drawLine = cv2.line(imgDrawLine,(xCenter,yCenter),(x,y),(255,0,0),2)\n",
    "    \n",
    "    #mengukur ketebalan tutup kapsul\n",
    "    roiLineCap, capThickPix, capThick = thickMeasure(xCenter,yCenter,x,y,roi=thresCap)\n",
    "    \n",
    "    #mengukur ketebalan tabung kapsul\n",
    "    __, tubeThickPix, tubeThick = thickMeasure(xCenter,yCenter,x,y,roi=thresTube)\n",
    "    \n",
    "    #menhitung titik las\n",
    "    pointWeldPix = (capThickPix + tubeThickPix)/2\n",
    "    pointWeld =  pointWeldPix*constCalibrate\n",
    "    \n",
    "    #menghitung arah titik las dari celah kapsul\n",
    "    #jika positif --> mengarah ke tabung\n",
    "    #jika negatif --> mengarah ke tutup\n",
    "    dirWeldPix = pointWeldPix - capThickPix\n",
    "    dirWeld = dirWeldPix*constCalibrate\n",
    "    \n",
    "    #gambar titik las\n",
    "    xDotWeld,yDotWeld = drawDotWeld(roiLineCap,capThickPix,pointWeldPix,degree)\n",
    "    \n",
    "    dataThick.loc[len(dataThick)] = [degree,capThickPix,capThick,tubeThickPix,tubeThick,pointWeldPix,pointWeld,dirWeldPix,dirWeld]\n",
    "    \n",
    "    #titik las\n",
    "    drawDot = cv2.circle(imgDrawDot, (xDotWeld,yDotWeld), 1, (255, 0, 255), 2)"
   ]
  },
  {
   "cell_type": "code",
   "execution_count": null,
   "id": "4ef267ae-015b-457b-9a5e-7645d7d75d31",
   "metadata": {},
   "outputs": [],
   "source": [
    "#save thickness data to excel\n",
    "dataThick.to_excel('Output\\\\A1\\\\A1.xlsx')"
   ]
  },
  {
   "cell_type": "code",
   "execution_count": null,
   "id": "b85f01ed-7c4d-479d-a478-206601d1e1f0",
   "metadata": {},
   "outputs": [],
   "source": [
    "display_img(drawDot)"
   ]
  }
 ],
 "metadata": {
  "kernelspec": {
   "display_name": "Python 3",
   "language": "python",
   "name": "python3"
  },
  "language_info": {
   "codemirror_mode": {
    "name": "ipython",
    "version": 3
   },
   "file_extension": ".py",
   "mimetype": "text/x-python",
   "name": "python",
   "nbconvert_exporter": "python",
   "pygments_lexer": "ipython3",
   "version": "3.6.13"
  }
 },
 "nbformat": 4,
 "nbformat_minor": 5
}
