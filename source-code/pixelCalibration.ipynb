{
 "cells": [
  {
   "cell_type": "code",
   "execution_count": 1,
   "id": "051b7761-4e65-47e1-965b-e7908ae617c9",
   "metadata": {},
   "outputs": [],
   "source": [
    "#Import libary yang akan digunakan\n",
    "import cv2\n",
    "# import numpy as np\n",
    "import matplotlib.pyplot as plt\n",
    "%matplotlib inline"
   ]
  },
  {
   "cell_type": "code",
   "execution_count": 3,
   "id": "b3b755a2-0033-46e0-9ea4-d3395fab393c",
   "metadata": {},
   "outputs": [],
   "source": [
    "#access variables outside the script\n",
    "%store -r mtx\n",
    "%store -r dist\n",
    "%store -r roi\n",
    "%store -r newcameramtx"
   ]
  },
  {
   "cell_type": "code",
   "execution_count": 5,
   "id": "75e8d25a-c6a8-4976-917d-82a46dd27cab",
   "metadata": {},
   "outputs": [],
   "source": [
    "#directory image file\n",
    "path = 'Square Image\\\\1cmx1cm.jpg'"
   ]
  },
  {
   "cell_type": "code",
   "execution_count": 6,
   "id": "9c3d98d7-fed3-48e1-8bd5-fa028fb2632f",
   "metadata": {},
   "outputs": [],
   "source": [
    "#call image from path\n",
    "imgRaw = cv2.imread(path)"
   ]
  },
  {
   "cell_type": "code",
   "execution_count": 7,
   "id": "f5155681-4d49-46d8-8d4a-c43d7a8b9f81",
   "metadata": {},
   "outputs": [],
   "source": [
    "# undistort\n",
    "img = cv2.undistort(imgRaw, mtx, dist, None, newcameramtx)\n",
    "# crop the image\n",
    "x, y, w, h = roi\n",
    "img = img[y:y+h, x:x+w]"
   ]
  },
  {
   "cell_type": "code",
   "execution_count": 8,
   "id": "23071058-8304-491e-b397-f6c4382ea7db",
   "metadata": {},
   "outputs": [],
   "source": [
    "#change colormap BGR to Grayscale\n",
    "imgGray = cv2.cvtColor(img,cv2.COLOR_BGR2GRAY)"
   ]
  },
  {
   "cell_type": "code",
   "execution_count": 9,
   "id": "92f86660-ea9c-4614-931f-7bbf0e836ed7",
   "metadata": {},
   "outputs": [],
   "source": [
    "#reduce noise by guassian blur kernel size 9x9\n",
    "imgBlur = cv2.GaussianBlur(imgGray,(9,9),0)"
   ]
  },
  {
   "cell_type": "code",
   "execution_count": 10,
   "id": "be8fb8ad-12c4-4d5b-ae7b-33e3c5f6eee0",
   "metadata": {},
   "outputs": [],
   "source": [
    "#edge detection\n",
    "imgEdge = cv2.Canny(imgBlur, 50,100)"
   ]
  },
  {
   "cell_type": "code",
   "execution_count": 12,
   "id": "d0969304-eafe-4023-8118-79287166c9c9",
   "metadata": {},
   "outputs": [],
   "source": [
    "#find the contours of the object in the image\n",
    "imgCont, contours, hierarchy = cv2.findContours(imgEdge, cv2.RETR_TREE, cv2.CHAIN_APPROX_SIMPLE)"
   ]
  },
  {
   "cell_type": "code",
   "execution_count": 13,
   "id": "d7a9b5a6-d473-4361-8244-190c6e77fbb3",
   "metadata": {},
   "outputs": [],
   "source": [
    "#loop through the contours and calculate the dimention of object\n",
    "for i in contours:\n",
    "    x, y, width, height = cv2.boundingRect(i)\n",
    "    measurePixel.append(width)\n",
    "    cv2.rectangle(img, (x, y), (x+width, y+height), (255, 0, 0), 2)\n",
    "    cv2.putText(img, \"Panjang = {:.0f} piksel\".format(width), (x, y-10),cv2.FONT_HERSHEY_SIMPLEX, 1, (255, 0, 0), 2)"
   ]
  },
  {
   "cell_type": "code",
   "execution_count": 19,
   "id": "f51316c7-ecbc-475c-a173-99a9fff8c889",
   "metadata": {},
   "outputs": [
    {
     "data": {
      "text/plain": [
       "[140]"
      ]
     },
     "execution_count": 19,
     "metadata": {},
     "output_type": "execute_result"
    }
   ],
   "source": [
    "measurePixel = []"
   ]
  },
  {
   "cell_type": "code",
   "execution_count": 14,
   "id": "906c67d8-2a15-4cd4-a3cb-9c6a4a2c756b",
   "metadata": {},
   "outputs": [],
   "source": [
    "calibratePixel = 10/measurePixel[0]"
   ]
  },
  {
   "cell_type": "code",
   "execution_count": 16,
   "id": "dc031edb-ed1e-41f7-aa7d-bf560dc9477d",
   "metadata": {},
   "outputs": [
    {
     "name": "stdout",
     "output_type": "stream",
     "text": [
      "Stored 'calibratePixel' (float)\n"
     ]
    }
   ],
   "source": [
    "%store calibratePixel"
   ]
  }
 ],
 "metadata": {
  "kernelspec": {
   "display_name": "Python 3",
   "language": "python",
   "name": "python3"
  },
  "language_info": {
   "codemirror_mode": {
    "name": "ipython",
    "version": 3
   },
   "file_extension": ".py",
   "mimetype": "text/x-python",
   "name": "python",
   "nbconvert_exporter": "python",
   "pygments_lexer": "ipython3",
   "version": "3.6.13"
  }
 },
 "nbformat": 4,
 "nbformat_minor": 5
}
