{
 "cells": [
  {
   "cell_type": "code",
   "execution_count": 1,
   "id": "a2bce1b4-a923-4b97-932b-d5a5f2d1ee07",
   "metadata": {},
   "outputs": [],
   "source": [
    "#Import the library to be used\n",
    "import cv2\n",
    "import numpy as np\n",
    "import glob\n",
    "import matplotlib.pyplot as plt\n",
    "%matplotlib inline\n",
    "import math"
   ]
  },
  {
   "cell_type": "code",
   "execution_count": 3,
   "id": "80ee9d3c-ae71-48dc-93d1-65ba808f4f8c",
   "metadata": {},
   "outputs": [],
   "source": [
    "#directory image file\n",
    "path = 'Checkboard Calibration Image\\\\*.jpg'"
   ]
  },
  {
   "cell_type": "code",
   "execution_count": 4,
   "id": "c5903e9c-8759-4a2c-962f-56387b051696",
   "metadata": {},
   "outputs": [],
   "source": [
    "#access all image\n",
    "files = glob.glob(path)"
   ]
  },
  {
   "cell_type": "code",
   "execution_count": 5,
   "id": "a9b7b75b-5372-40ac-8a6e-6efc6da6ac8c",
   "metadata": {},
   "outputs": [],
   "source": [
    "# Defining the dimensions of checkerboard\n",
    "CHECKERBOARD = (9,9)"
   ]
  },
  {
   "cell_type": "code",
   "execution_count": 6,
   "id": "049e96dd-844f-4a37-af3b-10a7c72cf3f4",
   "metadata": {},
   "outputs": [],
   "source": [
    "# Creating vector to store vectors of 3D points for each checkerboard image\n",
    "objpoints = []\n",
    "# Creating vector to store vectors of 2D points for each checkerboard image\n",
    "imgpoints = [] "
   ]
  },
  {
   "cell_type": "code",
   "execution_count": 7,
   "id": "890d67ed-cb5d-4ead-957d-4db8e7ae0d0f",
   "metadata": {},
   "outputs": [],
   "source": [
    "# Defining the world coordinates for 3D points\n",
    "objp = np.zeros((1, CHECKERBOARD[0] * CHECKERBOARD[1], 3), np.float32)\n",
    "objp[0,:,:2] = np.mgrid[0:CHECKERBOARD[0], 0:CHECKERBOARD[1]].T.reshape(-1, 2)"
   ]
  },
  {
   "cell_type": "code",
   "execution_count": 8,
   "id": "ecddd568-9955-44a5-9f40-629845a52580",
   "metadata": {},
   "outputs": [],
   "source": [
    "for fname in files:\n",
    "    img = cv2.imread(fname)\n",
    "    gray = cv2.cvtColor(img,cv2.COLOR_BGR2GRAY)\n",
    "    # Find the chess board corners\n",
    "    # If desired number of corners are found in the image then ret = true\n",
    "    ret, corners = cv2.findChessboardCorners(gray, CHECKERBOARD, cv2.CALIB_CB_ADAPTIVE_THRESH + cv2.CALIB_CB_FAST_CHECK + cv2.CALIB_CB_NORMALIZE_IMAGE)\n",
    "     \n",
    "    \"\"\"\n",
    "    If desired number of corner are detected,\n",
    "    we refine the pixel coordinates and display \n",
    "    them on the images of checker board\n",
    "    \"\"\"\n",
    "    if ret == True:\n",
    "        objpoints.append(objp)\n",
    "        # refining pixel coordinates for given 2d points.\n",
    "        corners2 = cv2.cornerSubPix(gray, corners, (11,11),(-1,-1),(cv2.TERM_CRITERIA_EPS + cv2.TERM_CRITERIA_MAX_ITER, 30, 0.001))\n",
    "         \n",
    "        imgpoints.append(corners2)\n",
    " \n",
    "        # Draw and display the corners\n",
    "        # img = cv2.drawChessboardCorners(img, CHECKERBOARD, corners2, ret)"
   ]
  },
  {
   "cell_type": "code",
   "execution_count": 9,
   "id": "29777178-ae50-4ca7-bf2b-56b659831a34",
   "metadata": {},
   "outputs": [],
   "source": [
    "h,w = img.shape[:2]"
   ]
  },
  {
   "cell_type": "code",
   "execution_count": 10,
   "id": "7d364995-ac9f-4d7f-b32b-635e965b3f0e",
   "metadata": {},
   "outputs": [],
   "source": [
    "ret, mtx, dist, rvecs, tvecs = cv2.calibrateCamera(objpoints, imgpoints, gray.shape[::-1], None, None)"
   ]
  },
  {
   "cell_type": "code",
   "execution_count": 12,
   "id": "2c121482-52be-4c75-986a-41d864e8fe1d",
   "metadata": {},
   "outputs": [],
   "source": [
    "newcameramtx, roi = cv2.getOptimalNewCameraMatrix(mtx, dist, (w,h), 1, (w,h))"
   ]
  },
  {
   "cell_type": "code",
   "execution_count": 13,
   "id": "4a97f0fc-4572-442b-820e-0545de6e9dd6",
   "metadata": {},
   "outputs": [
    {
     "name": "stdout",
     "output_type": "stream",
     "text": [
      "Stored 'roi' (tuple)\n",
      "Stored 'newcameramtx' (ndarray)\n"
     ]
    }
   ],
   "source": [
    "#store variables for access to other programs\n",
    "%store roi\n",
    "%store newcameramtx\n",
    "%store mtx\n",
    "%store dist"
   ]
  }
 ],
 "metadata": {
  "kernelspec": {
   "display_name": "Python 3",
   "language": "python",
   "name": "python3"
  },
  "language_info": {
   "codemirror_mode": {
    "name": "ipython",
    "version": 3
   },
   "file_extension": ".py",
   "mimetype": "text/x-python",
   "name": "python",
   "nbconvert_exporter": "python",
   "pygments_lexer": "ipython3",
   "version": "3.6.13"
  }
 },
 "nbformat": 4,
 "nbformat_minor": 5
}
